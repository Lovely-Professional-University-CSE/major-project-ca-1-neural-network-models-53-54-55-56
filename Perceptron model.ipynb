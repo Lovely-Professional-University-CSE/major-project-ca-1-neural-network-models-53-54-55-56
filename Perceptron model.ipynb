{
 "cells": [
  {
   "cell_type": "code",
   "execution_count": 28,
   "metadata": {},
   "outputs": [],
   "source": [
    "import numpy as np\n",
    "import pandas as pd\n",
    "from sklearn import datasets\n",
    "from sklearn.model_selection import train_test_split\n",
    "from sklearn.preprocessing import StandardScaler\n",
    "from sklearn.linear_model import Perceptron\n",
    "from sklearn.metrics import accuracy_score"
   ]
  },
  {
   "cell_type": "code",
   "execution_count": 29,
   "metadata": {},
   "outputs": [
    {
     "name": "stdout",
     "output_type": "stream",
     "text": [
      "Wrong predicion using model\n",
      "3 / 45\n",
      "Percentage accuracy 93.33333333333333\n"
     ]
    }
   ],
   "source": [
    "i=datasets.load_iris()\n",
    "\n",
    "x=i.data\n",
    "y=i.target\n",
    "#print(x)\n",
    "#print(y)\n",
    "X_train,X_test,Y_train,Y_test=train_test_split(x,y,test_size=.3,random_state=0)\n",
    "sc=StandardScaler()\n",
    "X_train_std=sc.fit_transform(X_train)\n",
    "X_test_std=sc.fit_transform(X_test)\n",
    "ppn=Perceptron(max_iter=1000,eta0=0.0001)\n",
    "ppn.fit(X_train_std,Y_train)\n",
    "y_predict=ppn.predict(X_test_std)\n",
    "print('Wrong predicion using model')\n",
    "print((Y_test!=y_predict).sum(),'/',((Y_test==y_predict).sum()+(Y_test!=y_predict).sum()))\n",
    "print('Percentage accuracy',100*accuracy_score(Y_test,y_predict))"
   ]
  },
  {
   "cell_type": "code",
   "execution_count": 3,
   "metadata": {},
   "outputs": [],
   "source": [
    "\n"
   ]
  },
  {
   "cell_type": "code",
   "execution_count": 6,
   "metadata": {},
   "outputs": [],
   "source": []
  },
  {
   "cell_type": "code",
   "execution_count": null,
   "metadata": {},
   "outputs": [],
   "source": []
  }
 ],
 "metadata": {
  "kernelspec": {
   "display_name": "Python 3",
   "language": "python",
   "name": "python3"
  },
  "language_info": {
   "codemirror_mode": {
    "name": "ipython",
    "version": 3
   },
   "file_extension": ".py",
   "mimetype": "text/x-python",
   "name": "python",
   "nbconvert_exporter": "python",
   "pygments_lexer": "ipython3",
   "version": "3.7.0"
  }
 },
 "nbformat": 4,
 "nbformat_minor": 2
}
